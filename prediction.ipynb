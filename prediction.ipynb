{
 "cells": [
  {
   "cell_type": "code",
   "execution_count": 1,
   "id": "201ea8ce",
   "metadata": {},
   "outputs": [],
   "source": [
    "import tensorflow as tf       \n",
    "from tensorflow.keras.models import load_model   \n",
    "import pickle \n",
    "import pandas as pd     \n",
    "import numpy as np            "
   ]
  },
  {
   "cell_type": "code",
   "execution_count": 6,
   "id": "ef55f9b0",
   "metadata": {},
   "outputs": [
    {
     "name": "stderr",
     "output_type": "stream",
     "text": [
      "WARNING:absl:Compiled the loaded model, but the compiled metrics have yet to be built. `model.compile_metrics` will be empty until you train or evaluate the model.\n"
     ]
    }
   ],
   "source": [
    "### Load the trained model, Scaler, OnehotEncoder... \n",
    "\n",
    "model = load_model('model.h5')\n",
    "\n",
    "### Load the encoder, scale, OnehotEncoder \n",
    "\n",
    "with open ('onehot_encoder_geography.pkl','rb') as file:\n",
    "    onehot_encoder_geography = pickle.load(file)\n",
    "    \n",
    "with open ('label_encoder_gender.pkl','rb') as file:\n",
    "    label_encoder_gender = pickle.load(file)\n",
    "    \n",
    "with open ('scaler.pkl','rb') as file:\n",
    "    scaler = pickle.load(file) "
   ]
  },
  {
   "cell_type": "code",
   "execution_count": null,
   "id": "e0eb09ce",
   "metadata": {},
   "outputs": [],
   "source": []
  }
 ],
 "metadata": {
  "kernelspec": {
   "display_name": "Python 3",
   "language": "python",
   "name": "python3"
  },
  "language_info": {
   "codemirror_mode": {
    "name": "ipython",
    "version": 3
   },
   "file_extension": ".py",
   "mimetype": "text/x-python",
   "name": "python",
   "nbconvert_exporter": "python",
   "pygments_lexer": "ipython3",
   "version": "3.12.0"
  }
 },
 "nbformat": 4,
 "nbformat_minor": 5
}
